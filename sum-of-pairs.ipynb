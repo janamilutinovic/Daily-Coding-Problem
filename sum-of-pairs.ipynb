# 1. Given a list of numbers and num k, return whether any two numbers from the list add up to k
l = [10,15,3,4,7]
k = 17

def f1(l,k):
    rest = k
    for i in l:
        rest = k - i
        if rest in l:
            return True
    return False

        
f1(l,k)
